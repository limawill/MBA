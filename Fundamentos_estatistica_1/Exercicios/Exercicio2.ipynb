{
 "cells": [
  {
   "attachments": {},
   "cell_type": "markdown",
   "metadata": {},
   "source": [
    "##### Um analista do mercado acionário coletou os retornos mensais de duas ações que pretende indicar aos seus clientes. Calcule as estatísticas descritivas para as duas variáveis, incluindo o coeficiente de correlação entre os retornos. O banco de dados com\n",
    "\n",
    "##### O banco de dados está na pasta Base de dados Exercício2.csv"
   ]
  },
  {
   "attachments": {},
   "cell_type": "markdown",
   "metadata": {},
   "source": [
    "### Importação e preparação do dados"
   ]
  },
  {
   "cell_type": "code",
   "execution_count": 109,
   "metadata": {},
   "outputs": [],
   "source": [
    "import pandas as pd\n",
    "from pandas import DataFrame\n",
    "from scipy.stats import pearsonr, t\n",
    "import numpy as np\n",
    "\n",
    "df = pd.read_csv('../Base_dados/Exercicio2.csv',sep=';')\n",
    "\n",
    "\n",
    "df['Acao1'] = df['Acao1'].str.replace(',','.')\n",
    "df['Acao2'] = df['Acao2'].str.replace(',','.')\n",
    "df['Meses'] = df['Meses'].astype(int)\n",
    "df['Acao1'] = df['Acao1'].astype('Float64')\n",
    "df['Acao2'] = df['Acao2'].astype('Float64')"
   ]
  },
  {
   "attachments": {},
   "cell_type": "markdown",
   "metadata": {},
   "source": [
    "#### Função de criação de nova linha"
   ]
  },
  {
   "cell_type": "code",
   "execution_count": 110,
   "metadata": {},
   "outputs": [],
   "source": [
    "def insere_linhas(df, novas_linhas):\n",
    "    df_novo = pd.concat([df, novas_linhas], ignore_index=True)\n",
    "    return df_novo\n",
    "\n",
    "def cria_linha(descritiva,valor1,valor2):\n",
    "    new_row = pd.DataFrame({'Descritivas': [str(descritiva)],'Ação 1': [valor1], 'Ação 2': [valor2]})\n",
    "    return new_row\n"
   ]
  },
  {
   "attachments": {},
   "cell_type": "markdown",
   "metadata": {},
   "source": [
    "#### Nº de observações"
   ]
  },
  {
   "cell_type": "code",
   "execution_count": 111,
   "metadata": {},
   "outputs": [],
   "source": [
    "Num_Observacoes1 = df['Acao1'].count()\n",
    "Num_Observacoes2 = df['Acao2'].count()\n",
    "\n",
    "data = {'Descritivas': ['Nº Observações'],'Ação 1': [Num_Observacoes1], 'Ação 2': [Num_Observacoes2]}\n",
    "new_df = pd.DataFrame(data)\n"
   ]
  },
  {
   "attachments": {},
   "cell_type": "markdown",
   "metadata": {},
   "source": [
    "#### Calculo da média"
   ]
  },
  {
   "cell_type": "code",
   "execution_count": 112,
   "metadata": {},
   "outputs": [],
   "source": [
    "\n",
    "Media1 = df['Acao1'].mean()\n",
    "Media2 = df['Acao2'].mean()\n",
    "new_df = insere_linhas(new_df, cria_linha(\"Média\",Media1, Media2))\n"
   ]
  },
  {
   "attachments": {},
   "cell_type": "markdown",
   "metadata": {},
   "source": [
    "#### Calculo da mediana"
   ]
  },
  {
   "cell_type": "code",
   "execution_count": 113,
   "metadata": {},
   "outputs": [],
   "source": [
    "\n",
    "Mediana1 = df['Acao1'].median()\n",
    "Mediana2 = df['Acao2'].median()\n",
    "new_df = insere_linhas(new_df, cria_linha(\"Mediana\",Mediana1, Mediana2))\n"
   ]
  },
  {
   "attachments": {},
   "cell_type": "markdown",
   "metadata": {},
   "source": [
    "#### Calculo da Moda"
   ]
  },
  {
   "cell_type": "code",
   "execution_count": 114,
   "metadata": {},
   "outputs": [],
   "source": [
    "Moda1 = df['Acao1'].mode()\n",
    "Moda2 = df['Acao2'].mode()\n",
    "new_df = insere_linhas(new_df, cria_linha(\"Moda\",0, 0))\n"
   ]
  },
  {
   "attachments": {},
   "cell_type": "markdown",
   "metadata": {},
   "source": [
    "#### Calculo 1º Quartil"
   ]
  },
  {
   "cell_type": "code",
   "execution_count": 115,
   "metadata": {},
   "outputs": [],
   "source": [
    "Quartil1_1 = df['Acao1'].quantile(0.25)\n",
    "Quartil1_2 = df['Acao2'].quantile(0.25)\n",
    "new_df = insere_linhas(new_df, cria_linha(\"1º Quartil\",Quartil1_1, Quartil1_2))"
   ]
  },
  {
   "attachments": {},
   "cell_type": "markdown",
   "metadata": {},
   "source": [
    "#### Calculo 3º Quartil"
   ]
  },
  {
   "cell_type": "code",
   "execution_count": 116,
   "metadata": {},
   "outputs": [],
   "source": [
    "Quartil3_1 = df['Acao1'].quantile(0.75)\n",
    "Quartil3_2 = df['Acao2'].quantile(0.75)\n",
    "new_df = insere_linhas(new_df, cria_linha(\"3º Quartil\",Quartil3_1, Quartil3_2))"
   ]
  },
  {
   "attachments": {},
   "cell_type": "markdown",
   "metadata": {},
   "source": [
    "#### Calculo 8º Decil"
   ]
  },
  {
   "cell_type": "code",
   "execution_count": 117,
   "metadata": {},
   "outputs": [],
   "source": [
    "Decil8_1 = df['Acao1'].quantile(0.8)\n",
    "Decil8_2 = df['Acao2'].quantile(0.8)\n",
    "new_df = insere_linhas(new_df, cria_linha(\"8º Decil\",Decil8_1, Decil8_2))"
   ]
  },
  {
   "attachments": {},
   "cell_type": "markdown",
   "metadata": {},
   "source": [
    "#### Calculo 9º Decil"
   ]
  },
  {
   "cell_type": "code",
   "execution_count": 118,
   "metadata": {},
   "outputs": [],
   "source": [
    "Decil9_1 = df['Acao1'].quantile(0.9)\n",
    "Decil9_2 = df['Acao2'].quantile(0.9)\n",
    "new_df = insere_linhas(new_df, cria_linha(\"9º Decil\",Decil9_1, Decil9_2))"
   ]
  },
  {
   "attachments": {},
   "cell_type": "markdown",
   "metadata": {},
   "source": [
    "#### Calculo 27º Percentil"
   ]
  },
  {
   "cell_type": "code",
   "execution_count": 119,
   "metadata": {},
   "outputs": [],
   "source": [
    "Percentil27_1 = df['Acao1'].quantile(0.27)\n",
    "Percentil27_2 = df['Acao2'].quantile(0.27)\n",
    "new_df = insere_linhas(new_df, cria_linha(\"27º Percentil\",Percentil27_1, Percentil27_2))"
   ]
  },
  {
   "attachments": {},
   "cell_type": "markdown",
   "metadata": {},
   "source": [
    "#### Calculo 64º Percentil"
   ]
  },
  {
   "cell_type": "code",
   "execution_count": 120,
   "metadata": {},
   "outputs": [],
   "source": [
    "Percentil64_1 = df['Acao1'].quantile(0.64)\n",
    "Percentil64_2 = df['Acao2'].quantile(0.64)\n",
    "new_df = insere_linhas(new_df, cria_linha(\"64º Quartil\",Percentil64_1, Percentil64_2))"
   ]
  },
  {
   "attachments": {},
   "cell_type": "markdown",
   "metadata": {},
   "source": [
    "#### Calculo Valor Mínimo"
   ]
  },
  {
   "cell_type": "code",
   "execution_count": 121,
   "metadata": {},
   "outputs": [],
   "source": [
    "Valor_mínimo1 = df['Acao1'].min()\n",
    "Valor_mínimo2 = df['Acao2'].min()\n",
    "new_df = insere_linhas(new_df, cria_linha(\"Valor Minimo\",Valor_mínimo1, Valor_mínimo2))"
   ]
  },
  {
   "attachments": {},
   "cell_type": "markdown",
   "metadata": {},
   "source": [
    "#### Calculo Valor Máximo"
   ]
  },
  {
   "cell_type": "code",
   "execution_count": 122,
   "metadata": {},
   "outputs": [],
   "source": [
    "Valor_maximo1 = df['Acao1'].max()\n",
    "Valor_maximo2 = df['Acao2'].max()\n",
    "new_df = insere_linhas(new_df, cria_linha(\"Valor Máximo\",Valor_maximo1, Valor_maximo2))"
   ]
  },
  {
   "attachments": {},
   "cell_type": "markdown",
   "metadata": {},
   "source": [
    "#### Calculo Amplitude"
   ]
  },
  {
   "cell_type": "code",
   "execution_count": 123,
   "metadata": {},
   "outputs": [],
   "source": [
    "Amplitude1 = df['Acao1'].max() - df['Acao1'].min()\n",
    "Amplitude2 = df['Acao2'].max() - df['Acao2'].min()\n",
    "new_df = insere_linhas(new_df, cria_linha(\"Amplitude\",Amplitude1, Amplitude2))"
   ]
  },
  {
   "attachments": {},
   "cell_type": "markdown",
   "metadata": {},
   "source": [
    "#### Calculo Variância"
   ]
  },
  {
   "cell_type": "code",
   "execution_count": 124,
   "metadata": {},
   "outputs": [],
   "source": [
    "Variancia1 = df['Acao1'].var()\n",
    "Variancia2 = df['Acao2'].var()\n",
    "new_df = insere_linhas(new_df, cria_linha(\"Variância\",Variancia1, Variancia2))"
   ]
  },
  {
   "attachments": {},
   "cell_type": "markdown",
   "metadata": {},
   "source": [
    "#### Calculo Desvio Padrão"
   ]
  },
  {
   "cell_type": "code",
   "execution_count": 125,
   "metadata": {},
   "outputs": [],
   "source": [
    "Desvio_padrao1 = df['Acao1'].std()\n",
    "Desvio_padrao2 = df['Acao2'].std()\n",
    "new_df = insere_linhas(new_df, cria_linha(\"Desvio Padrão\",Desvio_padrao1, Desvio_padrao2))"
   ]
  },
  {
   "attachments": {},
   "cell_type": "markdown",
   "metadata": {},
   "source": [
    "#### Calculo Erro Padrão"
   ]
  },
  {
   "cell_type": "code",
   "execution_count": 126,
   "metadata": {},
   "outputs": [],
   "source": [
    "Erro_padrao1 = df['Acao1'].sem()\n",
    "Erro_padrao2 = df['Acao2'].sem()\n",
    "new_df = insere_linhas(new_df, cria_linha(\"Erro Padrão\",Erro_padrao1, Erro_padrao2))"
   ]
  },
  {
   "attachments": {},
   "cell_type": "markdown",
   "metadata": {},
   "source": [
    "#### Calculo Coeficiente de Variação"
   ]
  },
  {
   "cell_type": "code",
   "execution_count": 127,
   "metadata": {},
   "outputs": [],
   "source": [
    "Coef_variacao1 = df['Acao1'].std() / df['Acao1'].mean()\n",
    "Coef_variacao2 = df['Acao2'].std() / df['Acao2'].mean()\n",
    "new_df = insere_linhas(new_df, cria_linha(\"Coeficiente de Variação\",Coef_variacao1, Coef_variacao2))"
   ]
  },
  {
   "attachments": {},
   "cell_type": "markdown",
   "metadata": {},
   "source": [
    "### Calculo da Correlação, Estatistica T Correlação e p-valor (bicaudal)"
   ]
  },
  {
   "cell_type": "code",
   "execution_count": 129,
   "metadata": {},
   "outputs": [
    {
     "name": "stdout",
     "output_type": "stream",
     "text": [
      "Correlação: 0.29081897658677197\n",
      "Estatística T: 1.3929039354677466\n",
      "Valor-p: 0.17822078262232158\n"
     ]
    }
   ],
   "source": [
    "corr, p_value = pearsonr(df['Acao1'], df['Acao2'])\n",
    "t_statistic = corr * ((len(df) - 2) / (1 - corr**2))**0.5\n",
    "\n",
    "print('Correlação:', corr)\n",
    "print('Estatística T:', t_statistic)\n",
    "print('Valor-p:', p_value)"
   ]
  },
  {
   "cell_type": "code",
   "execution_count": 130,
   "metadata": {},
   "outputs": [
    {
     "data": {
      "text/html": [
       "<div>\n",
       "<style scoped>\n",
       "    .dataframe tbody tr th:only-of-type {\n",
       "        vertical-align: middle;\n",
       "    }\n",
       "\n",
       "    .dataframe tbody tr th {\n",
       "        vertical-align: top;\n",
       "    }\n",
       "\n",
       "    .dataframe thead th {\n",
       "        text-align: right;\n",
       "    }\n",
       "</style>\n",
       "<table border=\"1\" class=\"dataframe\">\n",
       "  <thead>\n",
       "    <tr style=\"text-align: right;\">\n",
       "      <th></th>\n",
       "      <th>Descritivas</th>\n",
       "      <th>Ação 1</th>\n",
       "      <th>Ação 2</th>\n",
       "    </tr>\n",
       "  </thead>\n",
       "  <tbody>\n",
       "    <tr>\n",
       "      <th>0</th>\n",
       "      <td>Nº Observações</td>\n",
       "      <td>23.000000</td>\n",
       "      <td>23.000000</td>\n",
       "    </tr>\n",
       "    <tr>\n",
       "      <th>1</th>\n",
       "      <td>Média</td>\n",
       "      <td>0.035204</td>\n",
       "      <td>0.151135</td>\n",
       "    </tr>\n",
       "    <tr>\n",
       "      <th>2</th>\n",
       "      <td>Mediana</td>\n",
       "      <td>0.037000</td>\n",
       "      <td>0.124800</td>\n",
       "    </tr>\n",
       "    <tr>\n",
       "      <th>3</th>\n",
       "      <td>Moda</td>\n",
       "      <td>0.000000</td>\n",
       "      <td>0.000000</td>\n",
       "    </tr>\n",
       "    <tr>\n",
       "      <th>4</th>\n",
       "      <td>1º Quartil</td>\n",
       "      <td>-0.061200</td>\n",
       "      <td>0.020400</td>\n",
       "    </tr>\n",
       "    <tr>\n",
       "      <th>5</th>\n",
       "      <td>3º Quartil</td>\n",
       "      <td>0.116050</td>\n",
       "      <td>0.233300</td>\n",
       "    </tr>\n",
       "    <tr>\n",
       "      <th>6</th>\n",
       "      <td>8º Decil</td>\n",
       "      <td>0.125960</td>\n",
       "      <td>0.261900</td>\n",
       "    </tr>\n",
       "    <tr>\n",
       "      <th>7</th>\n",
       "      <td>9º Decil</td>\n",
       "      <td>0.223500</td>\n",
       "      <td>0.427960</td>\n",
       "    </tr>\n",
       "    <tr>\n",
       "      <th>8</th>\n",
       "      <td>27º Percentil</td>\n",
       "      <td>-0.056360</td>\n",
       "      <td>0.020840</td>\n",
       "    </tr>\n",
       "    <tr>\n",
       "      <th>9</th>\n",
       "      <td>64º Quartil</td>\n",
       "      <td>0.076312</td>\n",
       "      <td>0.182500</td>\n",
       "    </tr>\n",
       "    <tr>\n",
       "      <th>10</th>\n",
       "      <td>Valor Minimo</td>\n",
       "      <td>-0.201800</td>\n",
       "      <td>-0.149000</td>\n",
       "    </tr>\n",
       "    <tr>\n",
       "      <th>11</th>\n",
       "      <td>Valor Máximo</td>\n",
       "      <td>0.281400</td>\n",
       "      <td>0.626000</td>\n",
       "    </tr>\n",
       "    <tr>\n",
       "      <th>12</th>\n",
       "      <td>Amplitude</td>\n",
       "      <td>0.483200</td>\n",
       "      <td>0.775000</td>\n",
       "    </tr>\n",
       "    <tr>\n",
       "      <th>13</th>\n",
       "      <td>Variância</td>\n",
       "      <td>0.016698</td>\n",
       "      <td>0.041544</td>\n",
       "    </tr>\n",
       "    <tr>\n",
       "      <th>14</th>\n",
       "      <td>Desvio Padrão</td>\n",
       "      <td>0.129221</td>\n",
       "      <td>0.203822</td>\n",
       "    </tr>\n",
       "    <tr>\n",
       "      <th>15</th>\n",
       "      <td>Erro Padrão</td>\n",
       "      <td>0.026944</td>\n",
       "      <td>0.042500</td>\n",
       "    </tr>\n",
       "    <tr>\n",
       "      <th>16</th>\n",
       "      <td>Coeficiente de Variação</td>\n",
       "      <td>3.670591</td>\n",
       "      <td>1.348613</td>\n",
       "    </tr>\n",
       "  </tbody>\n",
       "</table>\n",
       "</div>"
      ],
      "text/plain": [
       "                Descritivas     Ação 1     Ação 2\n",
       "0            Nº Observações  23.000000  23.000000\n",
       "1                     Média   0.035204   0.151135\n",
       "2                   Mediana   0.037000   0.124800\n",
       "3                      Moda   0.000000   0.000000\n",
       "4                1º Quartil  -0.061200   0.020400\n",
       "5                3º Quartil   0.116050   0.233300\n",
       "6                  8º Decil   0.125960   0.261900\n",
       "7                  9º Decil   0.223500   0.427960\n",
       "8             27º Percentil  -0.056360   0.020840\n",
       "9               64º Quartil   0.076312   0.182500\n",
       "10             Valor Minimo  -0.201800  -0.149000\n",
       "11             Valor Máximo   0.281400   0.626000\n",
       "12                Amplitude   0.483200   0.775000\n",
       "13                Variância   0.016698   0.041544\n",
       "14            Desvio Padrão   0.129221   0.203822\n",
       "15              Erro Padrão   0.026944   0.042500\n",
       "16  Coeficiente de Variação   3.670591   1.348613"
      ]
     },
     "execution_count": 130,
     "metadata": {},
     "output_type": "execute_result"
    }
   ],
   "source": [
    "new_df"
   ]
  }
 ],
 "metadata": {
  "kernelspec": {
   "display_name": "Python 3",
   "language": "python",
   "name": "python3"
  },
  "language_info": {
   "codemirror_mode": {
    "name": "ipython",
    "version": 3
   },
   "file_extension": ".py",
   "mimetype": "text/x-python",
   "name": "python",
   "nbconvert_exporter": "python",
   "pygments_lexer": "ipython3",
   "version": "3.9.2"
  },
  "orig_nbformat": 4
 },
 "nbformat": 4,
 "nbformat_minor": 2
}
