{
 "cells": [
  {
   "attachments": {},
   "cell_type": "markdown",
   "metadata": {},
   "source": [
    "##### Na análise de concessão de empréstimos, uma variável potencialmente importante é a renda da pessoa. O gerente de um banco coleta uma base de dados de seus correntistas e extrai a variável “renda mensal (R$)” para 50 pessoas. Embora se trate de uma variável quantitativa, deseja realizar uma análise por meio de tabela de frequências. Neste sentido,pede-se:\n",
    "##### a)Classifique os correntistas em faixas de renda, sendo: 0-2.000; 2.001-4.000; 4.001-6.000; 6.001-8.000; 8.001-10.000 e 10.001-12.000.\n",
    "##### b) Em seguida, elabore a tabela de frequências para as faixas de renda acima\n",
    "##### O banco de dados está na pasta Base de dados Exercício1.csv"
   ]
  },
  {
   "attachments": {},
   "cell_type": "markdown",
   "metadata": {},
   "source": [
    "### Importação e preparação do dados"
   ]
  },
  {
   "cell_type": "code",
   "execution_count": 331,
   "metadata": {},
   "outputs": [],
   "source": [
    "import pandas as pd\n",
    "from pandas import DataFrame\n",
    "import numpy\n",
    "\n",
    "df = pd.read_csv('/home/will/Documentos/MBA/git/MBA/Fundamentos_estatistica_1/Base_dados/Exercicio1.csv',sep=';')\n",
    "df['Valores'] = df['Valores'].str.replace(',','.')\n",
    "df['Valores'] = df['Valores'].astype(float)"
   ]
  },
  {
   "attachments": {},
   "cell_type": "markdown",
   "metadata": {},
   "source": [
    "### Constantes"
   ]
  },
  {
   "cell_type": "code",
   "execution_count": 332,
   "metadata": {},
   "outputs": [],
   "source": [
    "# Definir os limites de cada faixa de renda\n",
    "faixas = [0, 2000, 4000, 6000, 8000, 10000, 12000]\n",
    "\n",
    "# Definir os rótulos para cada faixa de renda\n",
    "labels = ['0-2000', '2001-4000', '4001-6000', '6001-8000', '8001-10000', '10001-12000']\n",
    "\n",
    "# Calcula o total de correntistas\n",
    "total_correntistas = len(df)\n"
   ]
  },
  {
   "attachments": {},
   "cell_type": "markdown",
   "metadata": {},
   "source": [
    "### Calculos e criação da tabela"
   ]
  },
  {
   "cell_type": "code",
   "execution_count": 333,
   "metadata": {},
   "outputs": [],
   "source": [
    "\n",
    "# Classificar os correntistas em faixas de renda\n",
    "df['faixa_renda'] = pd.cut(df['Valores'], bins=faixas, labels=labels)\n",
    "\n",
    "# Calucluando a frequencia Absoluta\n",
    "df_new = df.groupby(['faixa_renda']).size().sort_index().reset_index(name='Frequência_Absoluta') \n",
    "\n",
    "# Calucluando a Frequência_Relativa\n",
    "df_new['Frequência_Relativa'] = df_new['Frequência_Absoluta']/total_correntistas\n",
    "\n",
    "# Calucluando a Frequência_Acumulada\n",
    "df_new['Frequência_Acumulada'] = df_new['Frequência_Absoluta'].cumsum()\n",
    "\n",
    "# Calucluando a Freq_Relativa_Acumulada\n",
    "df_new['Freq_Relativa_Acumulada'] = df_new['Frequência_Relativa'].cumsum()\n"
   ]
  },
  {
   "attachments": {},
   "cell_type": "markdown",
   "metadata": {},
   "source": [
    "### Pegando os valores totais da Frequencia Absoluta e Relativa"
   ]
  },
  {
   "cell_type": "code",
   "execution_count": 334,
   "metadata": {},
   "outputs": [],
   "source": [
    "totalFreqRelativa = df_new['Frequência_Relativa'].sum()\n",
    "totalFreqAbsoluta = df_new['Frequência_Absoluta'].sum()"
   ]
  },
  {
   "cell_type": "markdown",
   "metadata": {},
   "source": [
    "### Formantando campos de % (freq. relativas)"
   ]
  },
  {
   "cell_type": "code",
   "execution_count": 335,
   "metadata": {},
   "outputs": [],
   "source": [
    "df_new['Freq_Relativa_Acumulada'] = pd.to_numeric(df_new['Freq_Relativa_Acumulada'])\n",
    "df_new['Freq_Relativa_Acumulada'] = df_new['Freq_Relativa_Acumulada'].map('{:.0%}'.format)\n",
    "\n",
    "df_new['Frequência_Relativa'] = pd.to_numeric(df_new['Frequência_Relativa'])\n",
    "df_new['Frequência_Relativa'] = df_new['Frequência_Relativa'].map('{:.0%}'.format)"
   ]
  },
  {
   "attachments": {},
   "cell_type": "markdown",
   "metadata": {},
   "source": [
    "#### Imprimindo a saida"
   ]
  },
  {
   "cell_type": "code",
   "execution_count": 336,
   "metadata": {},
   "outputs": [
    {
     "name": "stdout",
     "output_type": "stream",
     "text": [
      "Total da frequencia absoluta: 50 \n",
      "Total da frequencia Relativa: 100% \n"
     ]
    },
    {
     "data": {
      "text/html": [
       "<div>\n",
       "<style scoped>\n",
       "    .dataframe tbody tr th:only-of-type {\n",
       "        vertical-align: middle;\n",
       "    }\n",
       "\n",
       "    .dataframe tbody tr th {\n",
       "        vertical-align: top;\n",
       "    }\n",
       "\n",
       "    .dataframe thead th {\n",
       "        text-align: right;\n",
       "    }\n",
       "</style>\n",
       "<table border=\"1\" class=\"dataframe\">\n",
       "  <thead>\n",
       "    <tr style=\"text-align: right;\">\n",
       "      <th></th>\n",
       "      <th>faixa_renda</th>\n",
       "      <th>Frequência_Absoluta</th>\n",
       "      <th>Frequência_Relativa</th>\n",
       "      <th>Frequência_Acumulada</th>\n",
       "      <th>Freq_Relativa_Acumulada</th>\n",
       "    </tr>\n",
       "  </thead>\n",
       "  <tbody>\n",
       "    <tr>\n",
       "      <th>0</th>\n",
       "      <td>0-2000</td>\n",
       "      <td>9</td>\n",
       "      <td>18%</td>\n",
       "      <td>9</td>\n",
       "      <td>18%</td>\n",
       "    </tr>\n",
       "    <tr>\n",
       "      <th>1</th>\n",
       "      <td>2001-4000</td>\n",
       "      <td>19</td>\n",
       "      <td>38%</td>\n",
       "      <td>28</td>\n",
       "      <td>56%</td>\n",
       "    </tr>\n",
       "    <tr>\n",
       "      <th>2</th>\n",
       "      <td>4001-6000</td>\n",
       "      <td>11</td>\n",
       "      <td>22%</td>\n",
       "      <td>39</td>\n",
       "      <td>78%</td>\n",
       "    </tr>\n",
       "    <tr>\n",
       "      <th>3</th>\n",
       "      <td>6001-8000</td>\n",
       "      <td>5</td>\n",
       "      <td>10%</td>\n",
       "      <td>44</td>\n",
       "      <td>88%</td>\n",
       "    </tr>\n",
       "    <tr>\n",
       "      <th>4</th>\n",
       "      <td>8001-10000</td>\n",
       "      <td>4</td>\n",
       "      <td>8%</td>\n",
       "      <td>48</td>\n",
       "      <td>96%</td>\n",
       "    </tr>\n",
       "    <tr>\n",
       "      <th>5</th>\n",
       "      <td>10001-12000</td>\n",
       "      <td>2</td>\n",
       "      <td>4%</td>\n",
       "      <td>50</td>\n",
       "      <td>100%</td>\n",
       "    </tr>\n",
       "  </tbody>\n",
       "</table>\n",
       "</div>"
      ],
      "text/plain": [
       "   faixa_renda  Frequência_Absoluta Frequência_Relativa  Frequência_Acumulada   \n",
       "0       0-2000                    9                 18%                     9  \\\n",
       "1    2001-4000                   19                 38%                    28   \n",
       "2    4001-6000                   11                 22%                    39   \n",
       "3    6001-8000                    5                 10%                    44   \n",
       "4   8001-10000                    4                  8%                    48   \n",
       "5  10001-12000                    2                  4%                    50   \n",
       "\n",
       "  Freq_Relativa_Acumulada  \n",
       "0                     18%  \n",
       "1                     56%  \n",
       "2                     78%  \n",
       "3                     88%  \n",
       "4                     96%  \n",
       "5                    100%  "
      ]
     },
     "execution_count": 336,
     "metadata": {},
     "output_type": "execute_result"
    }
   ],
   "source": [
    "print(\"Total da frequencia absoluta: {} \".format(totalFreqAbsoluta))\n",
    "print(\"Total da frequencia Relativa: {:.0%} \".format(totalFreqRelativa))\n",
    "df_new"
   ]
  }
 ],
 "metadata": {
  "kernelspec": {
   "display_name": "Python 3",
   "language": "python",
   "name": "python3"
  },
  "language_info": {
   "codemirror_mode": {
    "name": "ipython",
    "version": 3
   },
   "file_extension": ".py",
   "mimetype": "text/x-python",
   "name": "python",
   "nbconvert_exporter": "python",
   "pygments_lexer": "ipython3",
   "version": "3.9.2"
  },
  "orig_nbformat": 4
 },
 "nbformat": 4,
 "nbformat_minor": 2
}
