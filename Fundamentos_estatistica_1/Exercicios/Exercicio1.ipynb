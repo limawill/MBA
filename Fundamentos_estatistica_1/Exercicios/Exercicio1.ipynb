{
 "cells": [
  {
   "attachments": {},
   "cell_type": "markdown",
   "metadata": {},
   "source": [
    "##### Na análise de concessão de empréstimos, uma variável potencialmente importante é a renda da pessoa. O gerente de um banco coleta uma base de dados de seus correntistas e extrai a variável “renda mensal (R$)” para 50 pessoas. Embora se trate de uma variável quantitativa, deseja realizar uma análise por meio de tabela de frequências. Neste sentido,pede-se:\n",
    "##### a)Classifique os correntistas em faixas de renda, sendo: 0-2.000; 2.001-4.000; 4.001-6.000; 6.001-8.000; 8.001-10.000 e 10.001-12.000.\n",
    "##### b) Em seguida, elabore a tabela de frequências para as faixas de renda acima\n",
    "##### O banco de dados está na pasta Base de dados Exercício1.csv"
   ]
  },
  {
   "attachments": {},
   "cell_type": "markdown",
   "metadata": {},
   "source": [
    "### Importação e preparação do dados"
   ]
  },
  {
   "cell_type": "code",
   "execution_count": null,
   "metadata": {},
   "outputs": [],
   "source": [
    "import pandas as pd\n",
    "from pandas import DataFrame\n",
    "import matplotlib.pyplot as plt\n",
    "import numpy as np\n",
    "\n",
    "df = pd.read_csv('../Base_dados/Exercicio1.csv',sep=';')\n",
    "df['Valores'] = df['Valores'].str.replace(',','.')\n",
    "df['Valores'] = df['Valores'].astype(float)"
   ]
  },
  {
   "attachments": {},
   "cell_type": "markdown",
   "metadata": {},
   "source": [
    "### Constantes"
   ]
  },
  {
   "cell_type": "code",
   "execution_count": null,
   "metadata": {},
   "outputs": [],
   "source": [
    "# Definir os limites de cada faixa de renda\n",
    "faixas = [0, 2000, 4000, 6000, 8000, 10000, 12000]\n",
    "\n",
    "# Definir os rótulos para cada faixa de renda\n",
    "labels = ['0-2000', '2001-4000', '4001-6000', '6001-8000', '8001-10000', '10001-12000']\n",
    "\n",
    "# Calcula o total de correntistas\n",
    "total_correntistas = len(df)\n"
   ]
  },
  {
   "attachments": {},
   "cell_type": "markdown",
   "metadata": {},
   "source": [
    "### Calculos e criação da tabela"
   ]
  },
  {
   "cell_type": "code",
   "execution_count": null,
   "metadata": {},
   "outputs": [],
   "source": [
    "\n",
    "# Classificar os correntistas em faixas de renda\n",
    "df['faixa_renda'] = pd.cut(df['Valores'], bins=faixas, labels=labels)\n",
    "\n",
    "# Calucluando a frequencia Absoluta\n",
    "df_new = df.groupby(['faixa_renda']).size().sort_index().reset_index(name='Frequência_Absoluta') \n",
    "\n",
    "# Calucluando a Frequência_Relativa\n",
    "df_new['Frequência_Relativa'] = df_new['Frequência_Absoluta']/total_correntistas\n",
    "\n",
    "# Calucluando a Frequência_Acumulada\n",
    "df_new['Frequência_Acumulada'] = df_new['Frequência_Absoluta'].cumsum()\n",
    "\n",
    "# Calucluando a Freq_Relativa_Acumulada\n",
    "df_new['Freq_Relativa_Acumulada'] = df_new['Frequência_Relativa'].cumsum()\n"
   ]
  },
  {
   "attachments": {},
   "cell_type": "markdown",
   "metadata": {},
   "source": [
    "### Pegando os valores totais da Frequencia Absoluta e Relativa"
   ]
  },
  {
   "cell_type": "code",
   "execution_count": null,
   "metadata": {},
   "outputs": [],
   "source": [
    "totalFreqRelativa = df_new['Frequência_Relativa'].sum()\n",
    "totalFreqAbsoluta = df_new['Frequência_Absoluta'].sum()"
   ]
  },
  {
   "cell_type": "markdown",
   "metadata": {},
   "source": [
    "### Formantando campos de % (freq. relativas)"
   ]
  },
  {
   "cell_type": "code",
   "execution_count": null,
   "metadata": {},
   "outputs": [],
   "source": [
    "df_new['Freq_Relativa_Acumulada'] = pd.to_numeric(df_new['Freq_Relativa_Acumulada'])\n",
    "df_new['Freq_Relativa_Acumulada'] = df_new['Freq_Relativa_Acumulada'].map('{:.0%}'.format)\n",
    "\n",
    "df_new['Frequência_Relativa'] = pd.to_numeric(df_new['Frequência_Relativa'])\n",
    "df_new['Frequência_Relativa'] = df_new['Frequência_Relativa'].map('{:.0%}'.format)"
   ]
  },
  {
   "attachments": {},
   "cell_type": "markdown",
   "metadata": {},
   "source": [
    "#### Imprimindo a saida"
   ]
  },
  {
   "cell_type": "code",
   "execution_count": null,
   "metadata": {},
   "outputs": [],
   "source": [
    "print(\"Total da frequencia absoluta: {} \".format(totalFreqAbsoluta))\n",
    "print(\"Total da frequencia Relativa: {:.0%} \".format(totalFreqRelativa))\n",
    "df_new"
   ]
  },
  {
   "attachments": {},
   "cell_type": "markdown",
   "metadata": {},
   "source": [
    "#### Criando Grafico"
   ]
  },
  {
   "cell_type": "code",
   "execution_count": null,
   "metadata": {},
   "outputs": [],
   "source": [
    "\n",
    "df_new.plot.bar(x='faixa_renda', y='Frequência_Acumulada')\n"
   ]
  }
 ],
 "metadata": {
  "kernelspec": {
   "display_name": "Python 3",
   "language": "python",
   "name": "python3"
  },
  "language_info": {
   "codemirror_mode": {
    "name": "ipython",
    "version": 3
   },
   "file_extension": ".py",
   "mimetype": "text/x-python",
   "name": "python",
   "nbconvert_exporter": "python",
   "pygments_lexer": "ipython3",
   "version": "3.9.2"
  },
  "orig_nbformat": 4
 },
 "nbformat": 4,
 "nbformat_minor": 2
}
